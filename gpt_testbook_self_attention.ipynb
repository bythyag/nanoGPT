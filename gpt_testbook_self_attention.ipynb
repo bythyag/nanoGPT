{
  "nbformat": 4,
  "nbformat_minor": 0,
  "metadata": {
    "colab": {
      "provenance": [],
      "authorship_tag": "ABX9TyNAddohOj89o3hsZE2UpaCj",
      "include_colab_link": true
    },
    "kernelspec": {
      "name": "python3",
      "display_name": "Python 3"
    },
    "language_info": {
      "name": "python"
    }
  },
  "cells": [
    {
      "cell_type": "markdown",
      "metadata": {
        "id": "view-in-github",
        "colab_type": "text"
      },
      "source": [
        "<a href=\"https://colab.research.google.com/github/bythyag/nanoGPT/blob/main/gpt_testbook_self_attention.ipynb\" target=\"_parent\"><img src=\"https://colab.research.google.com/assets/colab-badge.svg\" alt=\"Open In Colab\"/></a>"
      ]
    },
    {
      "cell_type": "code",
      "execution_count": 2,
      "metadata": {
        "id": "3QYYhESg4jIa",
        "colab": {
          "base_uri": "https://localhost:8080/"
        },
        "outputId": "ce2be2d6-f868-4d2b-f512-0ae0585e9a5e"
      },
      "outputs": [
        {
          "output_type": "execute_result",
          "data": {
            "text/plain": [
              "<torch._C.Generator at 0x7a2e44cedd90>"
            ]
          },
          "metadata": {},
          "execution_count": 2
        }
      ],
      "source": [
        "import torch\n",
        "torch.manual_seed(42)"
      ]
    },
    {
      "cell_type": "code",
      "source": [
        "#let's create some tensors !\n",
        "\n",
        "a = torch.tril(torch.ones(3, 3))\n",
        "print(a)"
      ],
      "metadata": {
        "colab": {
          "base_uri": "https://localhost:8080/"
        },
        "id": "RufzqsyH5LOy",
        "outputId": "4ce43509-b666-49dd-99d3-f39b87f04347"
      },
      "execution_count": 8,
      "outputs": [
        {
          "output_type": "stream",
          "name": "stdout",
          "text": [
            "tensor([[1., 0., 0.],\n",
            "        [1., 1., 0.],\n",
            "        [1., 1., 1.]])\n"
          ]
        }
      ]
    },
    {
      "cell_type": "code",
      "source": [
        "# divide each element in 'a' by the sum of its corresponding row\n",
        "# normalizing each row so that the row elements sum is 1\n",
        "\n",
        "a = a / torch.sum(a, 1, keepdim=True)\n",
        "print(a)"
      ],
      "metadata": {
        "colab": {
          "base_uri": "https://localhost:8080/"
        },
        "id": "rlt-ncqH5hT8",
        "outputId": "cbd6640f-7c26-4673-9150-eec6e89a35f3"
      },
      "execution_count": 9,
      "outputs": [
        {
          "output_type": "stream",
          "name": "stdout",
          "text": [
            "tensor([[1.0000, 0.0000, 0.0000],\n",
            "        [0.5000, 0.5000, 0.0000],\n",
            "        [0.3333, 0.3333, 0.3333]])\n"
          ]
        }
      ]
    },
    {
      "cell_type": "code",
      "source": [
        "# create another tensor with values between 0-9 of size (3, 2)\n",
        "\n",
        "b = torch.randint(0,10,(3,2)).float()\n",
        "print(b)"
      ],
      "metadata": {
        "colab": {
          "base_uri": "https://localhost:8080/"
        },
        "id": "lagtDRwB5lUO",
        "outputId": "eb8693a4-0af0-4d2b-bcf4-6229402ca2b1"
      },
      "execution_count": 10,
      "outputs": [
        {
          "output_type": "stream",
          "name": "stdout",
          "text": [
            "tensor([[0., 4.],\n",
            "        [1., 2.],\n",
            "        [5., 5.]])\n"
          ]
        }
      ]
    },
    {
      "cell_type": "code",
      "source": [
        "# multiply tensor a and b\n",
        "c = a @ b\n",
        "print(c)"
      ],
      "metadata": {
        "colab": {
          "base_uri": "https://localhost:8080/"
        },
        "id": "eib28SnI6W6x",
        "outputId": "152568d8-fdec-4626-e9d9-a5d533424229"
      },
      "execution_count": 11,
      "outputs": [
        {
          "output_type": "stream",
          "name": "stdout",
          "text": [
            "tensor([[0.0000, 4.0000],\n",
            "        [0.5000, 3.0000],\n",
            "        [2.0000, 3.6667]])\n"
          ]
        }
      ]
    },
    {
      "cell_type": "code",
      "source": [
        "# version 1: using mean of prev elements by consecutive calculations\n",
        "\n",
        "B,T,C = 4,8,2 # batch, time, channels\n",
        "x = torch.randn(B,T,C)\n",
        "print(x.shape)\n",
        "print(\"Original x tensor:\\n\", x)"
      ],
      "metadata": {
        "colab": {
          "base_uri": "https://localhost:8080/"
        },
        "id": "o-4tEWQK6tvg",
        "outputId": "2f2b55cb-5e88-44b5-928d-cc1b856a43fa"
      },
      "execution_count": 39,
      "outputs": [
        {
          "output_type": "stream",
          "name": "stdout",
          "text": [
            "torch.Size([4, 8, 2])\n",
            "Original x tensor:\n",
            " tensor([[[-2.5850, -0.0240],\n",
            "         [-0.1222, -0.7470],\n",
            "         [ 1.7093,  0.0579],\n",
            "         [ 0.8637, -0.5890],\n",
            "         [ 0.7287,  0.9809],\n",
            "         [ 0.4146,  1.1566],\n",
            "         [ 0.2691, -0.0366],\n",
            "         [-0.4808,  0.3163]],\n",
            "\n",
            "        [[-0.5419, -0.4410],\n",
            "         [-0.3136, -0.1293],\n",
            "         [-0.7150, -0.0476],\n",
            "         [ 0.5230,  0.9717],\n",
            "         [ 0.9364,  0.7122],\n",
            "         [-0.0318,  0.1016],\n",
            "         [ 1.3433,  0.7133],\n",
            "         [ 0.3463, -0.5402]],\n",
            "\n",
            "        [[ 0.8337, -0.9585],\n",
            "         [ 0.4536,  1.2461],\n",
            "         [-2.3065, -1.2869],\n",
            "         [ 0.2137, -1.2351],\n",
            "         [-0.1341, -1.0408],\n",
            "         [-0.7647, -0.0553],\n",
            "         [ 1.2049, -0.9825],\n",
            "         [ 0.3040,  0.9339]],\n",
            "\n",
            "        [[ 1.0554, -1.4534],\n",
            "         [ 0.4652,  0.3714],\n",
            "         [-0.0047,  0.0795],\n",
            "         [-0.4560, -0.0619],\n",
            "         [-1.7237, -0.8435],\n",
            "         [ 0.4351,  0.2659],\n",
            "         [-0.5871,  0.0827],\n",
            "         [ 0.1858, -0.9698]]])\n"
          ]
        }
      ]
    },
    {
      "cell_type": "code",
      "source": [
        "# now we want to take the mean of all the prev T in a batch along the columns in C\n",
        "\n",
        "avgX = torch.zeros((B,T,C))\n",
        "for b in range(B):\n",
        "    for t in range(T):\n",
        "        prevX = x[b,:t+1] # (t,C)\n",
        "        avgX[b,t] = torch.mean(prevX, 0)"
      ],
      "metadata": {
        "id": "VEX3E6GE7SwL"
      },
      "execution_count": 40,
      "outputs": []
    },
    {
      "cell_type": "code",
      "source": [
        "# output example\n",
        "x[2], avgX[2]"
      ],
      "metadata": {
        "colab": {
          "base_uri": "https://localhost:8080/"
        },
        "id": "Igf7U8bf8kN4",
        "outputId": "1123e695-e1f4-4b12-8bcd-b8a64e6f366b"
      },
      "execution_count": 41,
      "outputs": [
        {
          "output_type": "execute_result",
          "data": {
            "text/plain": [
              "(tensor([[ 0.8337, -0.9585],\n",
              "         [ 0.4536,  1.2461],\n",
              "         [-2.3065, -1.2869],\n",
              "         [ 0.2137, -1.2351],\n",
              "         [-0.1341, -1.0408],\n",
              "         [-0.7647, -0.0553],\n",
              "         [ 1.2049, -0.9825],\n",
              "         [ 0.3040,  0.9339]]),\n",
              " tensor([[ 0.8337, -0.9585],\n",
              "         [ 0.6437,  0.1438],\n",
              "         [-0.3397, -0.3331],\n",
              "         [-0.2014, -0.5586],\n",
              "         [-0.1879, -0.6550],\n",
              "         [-0.2840, -0.5551],\n",
              "         [-0.0713, -0.6161],\n",
              "         [-0.0244, -0.4224]]))"
            ]
          },
          "metadata": {},
          "execution_count": 41
        }
      ]
    },
    {
      "cell_type": "code",
      "source": [
        "( -0.5389 + -0.8719 )/2"
      ],
      "metadata": {
        "colab": {
          "base_uri": "https://localhost:8080/"
        },
        "id": "dSrNy1Gm_WRD",
        "outputId": "351d9f6c-0b8e-4fbb-d2ed-f8fef4a09096"
      },
      "execution_count": 42,
      "outputs": [
        {
          "output_type": "execute_result",
          "data": {
            "text/plain": [
              "-0.7054"
            ]
          },
          "metadata": {},
          "execution_count": 42
        }
      ]
    },
    {
      "cell_type": "code",
      "source": [
        "# version 2: using matrix multiply for a weighted aggregation\n",
        "\n",
        "lowDiag = torch.tril(torch.ones(T, T))\n",
        "print(lowDiag)\n",
        "\n",
        "lowDiag = lowDiag / lowDiag.sum(1, keepdim=True)\n",
        "print(\"\\nNormalised lower diagonal matrix:\")\n",
        "print(lowDiag)\n",
        "\n",
        "avgX2 = lowDiag @ x # x is torch.randn(B,T,C), the @ operation is maths and changes shape as follows: (B, T, T) @ (B, T, C) ----> (B, T, C)\n",
        "\n",
        "print(f\"\\n is xAvg equal to avgX2? {torch.allclose(avgX, avgX2)}\")"
      ],
      "metadata": {
        "colab": {
          "base_uri": "https://localhost:8080/"
        },
        "id": "pxUcnGzB_sX3",
        "outputId": "78d658c5-56d0-4a93-eed0-5ad4623ede98"
      },
      "execution_count": 44,
      "outputs": [
        {
          "output_type": "stream",
          "name": "stdout",
          "text": [
            "tensor([[1., 0., 0., 0., 0., 0., 0., 0.],\n",
            "        [1., 1., 0., 0., 0., 0., 0., 0.],\n",
            "        [1., 1., 1., 0., 0., 0., 0., 0.],\n",
            "        [1., 1., 1., 1., 0., 0., 0., 0.],\n",
            "        [1., 1., 1., 1., 1., 0., 0., 0.],\n",
            "        [1., 1., 1., 1., 1., 1., 0., 0.],\n",
            "        [1., 1., 1., 1., 1., 1., 1., 0.],\n",
            "        [1., 1., 1., 1., 1., 1., 1., 1.]])\n",
            "\n",
            "Normalised lower diagonal matrix:\n",
            "tensor([[1.0000, 0.0000, 0.0000, 0.0000, 0.0000, 0.0000, 0.0000, 0.0000],\n",
            "        [0.5000, 0.5000, 0.0000, 0.0000, 0.0000, 0.0000, 0.0000, 0.0000],\n",
            "        [0.3333, 0.3333, 0.3333, 0.0000, 0.0000, 0.0000, 0.0000, 0.0000],\n",
            "        [0.2500, 0.2500, 0.2500, 0.2500, 0.0000, 0.0000, 0.0000, 0.0000],\n",
            "        [0.2000, 0.2000, 0.2000, 0.2000, 0.2000, 0.0000, 0.0000, 0.0000],\n",
            "        [0.1667, 0.1667, 0.1667, 0.1667, 0.1667, 0.1667, 0.0000, 0.0000],\n",
            "        [0.1429, 0.1429, 0.1429, 0.1429, 0.1429, 0.1429, 0.1429, 0.0000],\n",
            "        [0.1250, 0.1250, 0.1250, 0.1250, 0.1250, 0.1250, 0.1250, 0.1250]])\n",
            "\n",
            " is xAvg equal to avgX2? True\n"
          ]
        }
      ]
    },
    {
      "cell_type": "code",
      "source": [],
      "metadata": {
        "id": "_jq2X2opBS7j"
      },
      "execution_count": null,
      "outputs": []
    }
  ]
}